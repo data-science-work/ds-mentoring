{
 "cells": [
  {
   "cell_type": "code",
   "execution_count": 23,
   "metadata": {},
   "outputs": [],
   "source": [
    "import numpy as np\n",
    "import pandas as pd\n",
    "\n",
    "from sklearn.feature_extraction.text import CountVectorizer\n",
    "from sklearn.naive_bayes import GaussianNB, MultinomialNB, BernoulliNB\n",
    "\n",
    "from sklearn.metrics import classification_report"
   ]
  },
  {
   "cell_type": "code",
   "execution_count": 7,
   "metadata": {},
   "outputs": [],
   "source": [
    "dataset = pd.read_csv('../raw_data/language_sets.tsv', delimiter='\\t', index_col=0)\n",
    "train = dataset[dataset.set == 'train'].copy()\n",
    "val = dataset[dataset.set == 'val'].copy()\n",
    "test = dataset[dataset.set == 'test'].copy()"
   ]
  },
  {
   "cell_type": "code",
   "execution_count": 11,
   "metadata": {},
   "outputs": [],
   "source": [
    "one_hot_vec = CountVectorizer(analyzer='char_wb', ngram_range=(2,2), binary=True)\n",
    "count_vec = CountVectorizer(analyzer='char_wb', ngram_range=(2,2))\n",
    "bernoulli = BernoulliNB()\n",
    "multi = MultinomialNB()\n",
    "gaus = GaussianNB()"
   ]
  },
  {
   "cell_type": "code",
   "execution_count": 22,
   "metadata": {},
   "outputs": [],
   "source": [
    "one_hot_X = one_hot_vec.fit_transform(train.content)\n",
    "count_X = count_vec.fit_transform(train.content)\n",
    "\n",
    "# fit bernoulli\n",
    "bernoulli = bernoulli.fit(one_hot_X, train.language)\n",
    "\n",
    "# fit multinomilal\n",
    "multi = multi.fit(count_X, train.language)\n",
    "\n",
    "#fit gaussian\n",
    "gaus_X = count_X.A\n",
    "gaus = gaus.fit(gaus_X, train.language)"
   ]
  },
  {
   "cell_type": "markdown",
   "metadata": {},
   "source": [
    "## Multinomial Report"
   ]
  },
  {
   "cell_type": "code",
   "execution_count": 25,
   "metadata": {},
   "outputs": [
    {
     "name": "stdout",
     "output_type": "stream",
     "text": [
      "             precision    recall  f1-score   support\n",
      "\n",
      "         ar       1.00      1.00      1.00        17\n",
      "         de       0.89      1.00      0.94        17\n",
      "         en       1.00      1.00      1.00        17\n",
      "         es       1.00      1.00      1.00        17\n",
      "         fr       1.00      1.00      1.00        17\n",
      "         it       1.00      1.00      1.00        17\n",
      "         ja       1.00      1.00      1.00        17\n",
      "         nl       1.00      0.88      0.94        17\n",
      "         pl       1.00      1.00      1.00        17\n",
      "         pt       1.00      1.00      1.00        17\n",
      "         ru       1.00      1.00      1.00        17\n",
      "\n",
      "avg / total       0.99      0.99      0.99       187\n",
      "\n"
     ]
    }
   ],
   "source": [
    "multi_validation_X = count_vec.transform(val.content)\n",
    "\n",
    "multi_preds = multi.predict(multi_validation_X)\n",
    "\n",
    "print(classification_report(y_true = val.language, y_pred = multi_preds))"
   ]
  },
  {
   "cell_type": "markdown",
   "metadata": {},
   "source": [
    "## Gaussian Report"
   ]
  },
  {
   "cell_type": "code",
   "execution_count": 41,
   "metadata": {
    "scrolled": true
   },
   "outputs": [
    {
     "name": "stdout",
     "output_type": "stream",
     "text": [
      "             precision    recall  f1-score   support\n",
      "\n",
      "         ar       1.00      1.00      1.00        17\n",
      "         de       0.94      1.00      0.97        17\n",
      "         en       0.89      0.94      0.91        17\n",
      "         es       1.00      1.00      1.00        17\n",
      "         fr       1.00      1.00      1.00        17\n",
      "         it       0.94      1.00      0.97        17\n",
      "         ja       1.00      1.00      1.00        17\n",
      "         nl       1.00      0.82      0.90        17\n",
      "         pl       1.00      1.00      1.00        17\n",
      "         pt       1.00      1.00      1.00        17\n",
      "         ru       1.00      1.00      1.00        17\n",
      "\n",
      "avg / total       0.98      0.98      0.98       187\n",
      "\n"
     ]
    }
   ],
   "source": [
    "gaus_validation_X = count_vec.transform(val.content).A\n",
    "\n",
    "gaus_preds = gaus.predict(gaus_validation_X)\n",
    "\n",
    "print(classification_report(y_true = val.language, y_pred = gaus_preds))"
   ]
  },
  {
   "cell_type": "markdown",
   "metadata": {},
   "source": [
    "## Bernoulli Report"
   ]
  },
  {
   "cell_type": "code",
   "execution_count": 49,
   "metadata": {},
   "outputs": [
    {
     "name": "stdout",
     "output_type": "stream",
     "text": [
      "             precision    recall  f1-score   support\n",
      "\n",
      "         ar       0.94      1.00      0.97        17\n",
      "         de       1.00      1.00      1.00        17\n",
      "         en       1.00      0.94      0.97        17\n",
      "         es       1.00      0.94      0.97        17\n",
      "         fr       1.00      1.00      1.00        17\n",
      "         it       1.00      1.00      1.00        17\n",
      "         ja       1.00      1.00      1.00        17\n",
      "         nl       0.94      1.00      0.97        17\n",
      "         pl       1.00      1.00      1.00        17\n",
      "         pt       1.00      1.00      1.00        17\n",
      "         ru       1.00      1.00      1.00        17\n",
      "\n",
      "avg / total       0.99      0.99      0.99       187\n",
      "\n"
     ]
    }
   ],
   "source": [
    "bern_validation_X = one_hot_vec.transform(val.content)\n",
    "\n",
    "bern_preds = bernoulli.predict(bern_validation_X)\n",
    "\n",
    "print(classification_report(y_true = val.language, y_pred = bern_preds))"
   ]
  },
  {
   "cell_type": "code",
   "execution_count": null,
   "metadata": {},
   "outputs": [],
   "source": []
  }
 ],
 "metadata": {
  "kernelspec": {
   "display_name": "Python 3",
   "language": "python",
   "name": "python3"
  },
  "language_info": {
   "codemirror_mode": {
    "name": "ipython",
    "version": 3
   },
   "file_extension": ".py",
   "mimetype": "text/x-python",
   "name": "python",
   "nbconvert_exporter": "python",
   "pygments_lexer": "ipython3",
   "version": "3.6.4"
  }
 },
 "nbformat": 4,
 "nbformat_minor": 2
}
