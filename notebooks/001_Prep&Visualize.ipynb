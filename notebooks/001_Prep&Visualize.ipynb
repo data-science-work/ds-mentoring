{
 "cells": [
  {
   "cell_type": "code",
   "execution_count": 100,
   "metadata": {},
   "outputs": [],
   "source": [
    "import os\n",
    "import re\n",
    "import numpy as np\n",
    "import pandas as pd\n",
    "\n",
    "from collections import defaultdict\n",
    "\n",
    "import ds_utils as ds\n",
    "from sklearn.model_selection import train_test_split\n",
    "from sklearn.feature_extraction.text import CountVectorizer, TfidfVectorizer\n",
    "\n",
    "import tensorflow as tf\n",
    "from tensorflow.contrib.tensorboard.plugins import projector"
   ]
  },
  {
   "cell_type": "code",
   "execution_count": 99,
   "metadata": {},
   "outputs": [],
   "source": [
    "eda_model_dir = '../models/EDA'\n",
    "pretrn_model_dir = '../models/pretrained_word_embeddings'\n",
    "data_dir = '../raw_data/'\n",
    "resource_path = os.path.join(model_dir,'resources')"
   ]
  },
  {
   "cell_type": "markdown",
   "metadata": {},
   "source": [
    "## Data Prep"
   ]
  },
  {
   "cell_type": "code",
   "execution_count": 30,
   "metadata": {},
   "outputs": [
    {
     "name": "stdout",
     "output_type": "stream",
     "text": [
      "all_pt_text.txt\n",
      "all_es_text.txt\n",
      "all_nl_text.txt\n",
      "all_pl_text.txt\n",
      "all_it_text.txt\n",
      "all_fr_text.txt\n",
      "all_de_text.txt\n",
      "all_ja_text.txt\n",
      "all_ru_text.txt\n",
      "all_en_text.txt\n",
      "all_ar_text.txt\n"
     ]
    }
   ],
   "source": [
    "data_files = [f for f in os.listdir(data_dir) if not f.startswith('.')]\n",
    "print('\\n'.join(data_files))"
   ]
  },
  {
   "cell_type": "code",
   "execution_count": 47,
   "metadata": {
    "scrolled": true
   },
   "outputs": [
    {
     "name": "stdout",
     "output_type": "stream",
     "text": [
      "Foi laureada com o Prémio Princesa das Astúrias de 2015 na categoria Cooperação Internacional. O júri refere que \"figura entre os dez sites mais visitados do mundo, [...] tem crescido continuamente [...], incluíndo um número de línguas indígenas. [...] exemplo importante de cooperação internacional, democrática, aberta e participatória [...]. [250]A Wikipédia também tem sido utilizada como fonte no jornalismo,[238] muitas vezes sem atribuição, sendo que vários jornalistas foram demitidos por plagiar a Wikipédia.[239][240][241] Em julho de 2007, a Wikipédia foi foco de um documentário de 30 minutos da BBC Radio 4[242] que argumentava que, com o aumento do uso, o número de referências da Wikipédia na cultura popular é tal que o termo é um membro do grupo de marcas do século XXI que são tão familiares (Google, Facebook, YouTube) que já não precisam de explicações e estão a par com termos do século XX como Hoovering ou Coca-Cola.Páginas fortemente atacadas, artigos em particular, podem ser semiprotegidos de modo que apenas usuários registrados estabelecidos possam editá-los,[164] ou para casos particularmente controversos, bloqueios podem ser usados para que apenas os administradores sejam capazes de fazer edições. Tal bloqueio é aplicado com moderação, geralmente apenas por curtos períodos de tempo, enquanto os ataques parecerem propensos a continuar.[164]O processo de atualização da Wikipédia não é apenas diário: ocorre a qualquer instante, muitas vezes em tempo real, no tocante a eventos mais importantes. Sobre isso, a revista Época salienta: \"O verbete sobre a presidente eleita do Chile, Michelle Bachelet, trazia a notícia sobre a sua vitória nas eleições momentos após o anúncio oficial\".[149] É, portanto, uma enciclopédia \"viva\", \"ágil\" e \"pop\". Os fatores consistência e qualidade são constantemente monitorados por wikipedistas mais ativos. Um controle especial registra automaticamente a data e hora de cada última atualização. Quando surgem erros, o tempo médio atual para suas correções é de dois minutos. Graças à colaboração de voluntários, não raro consultores e editores wiki mesclam-se numa só pessoa. Como os interesses das pessoas são variadíssimos, o acervo da Wikipédia abrange várias tribos culturais.[150]Artigos traduzidos representam apenas uma pequena porção de artigos na maioria das edições, em parte porque a tradução automática de artigos não é permitida.[148] Artigos disponíveis em mais de uma língua podem oferecer links chamados de \"Interwikis\", com ligações para o mesmo artigo em outra língua.Na prática, a Wikipédia é defendida de ataques por vários sistemas e técnicas. Estes incluem páginas onde os usuários podem verificar edições (por exemplo, \"páginas vigiadas\" e \"mudanças recentes\"), programas de computador (\"bots\"), que são cuidadosamente projetados para tentar detectar ataques e corrigi-los automaticamente (ou semi-automaticamente), filtros que avisam os usuários sobre fazer indesejáveis edições,[163] bloqueios sobre a criação de links para sites em particular e bloqueios de edições de contas específicas, endereços de IP ou intervalos de endereços.Em 28 de setembro de 2007, o político italiano Franco Grillini levantou uma questão parlamentar com o Ministro dos Recursos e Atividades Culturais sobre a necessidade da liberdade de panorama. Ele disse que a falta de tal liberdade força a Wikipédia, \"o sétimo site mais consultado\", a proibir todas as imagens de edifícios modernos italianos e de obras de arte e que isso era extremamente prejudicial para as receitas turísticas.[243]Várias paródias da Wikipédia foram abertas para inserir falsidades, com características vandalizadoras ou com modificações dos artigos da enciclopédia.A Wikipédia ganhou dois prêmios importantes em maio de 2004.[245] O primeiro foi um \"Nica de Outro das Comunidades Digitais\" no concurso anual Prix Ars Electronica, valendo € 10.000 e um convite para assistir à Cyberarts PAE Festival na Áustria mais tarde naquele ano. O segundo foi o Prêmio Webby para a categoria \"comunidade\".[246] A Wikipédia também foi indicada para \"Melhores Práticas\" do Webby. Em 26 de janeiro de 2007, a Wikipédia também foi premiada com a classificação de quarta melhor marca pelos leitores do brandchannel.com, recebendo 15% dos votos, em resposta à pergunta \"Qual marca teve mais impacto em nossas vidas em 2006?\"[247]Em julho de 2009, a BBC Radio 4 transmitiu uma série de comédia chamada Bigipedia, baseada em um site que era uma paródia da Wikipédia. Alguns dos esboços foram diretamente inspirados na Wikipédia e seus artigos[254]Em sua ideia original, a Wikipédia tinha sido feita para que usuários a lessem e editassem o conteúdo utilizando qualquer navegador de web padrão através de uma conexão de internet fixa. No entanto, o conteúdo da Wikipédia está agora também acessível através da web móvel.Uma vez que a Wikipédia é um projeto livre da internet no mundo inteiro, e, portanto, os colaboradores de uma edição podem vir de lugares diferentes e por isso usarem dialetos diferentes (como é o caso da Wikipédia em português). Estas diferenças podem levar a alguns conflitos sobre diferenças de grafia (por exemplo trem ou comboio, goleiro ou guarda-redes)[139] ou pontos de vista.[140] Embora nas várias edições de idiomas sejam mantidas as políticas mundiais, da Wikimedia Foundation, como o \"ponto de vista neutro\", elas divergem em alguns pontos do texto e da prática, principalmente em imagens sem licença livre poderem ou não ser utilizadas sob uma alegação de fair use.[141][142][143]A estrutura aberta da Wikipédia faz com que ela seja um alvo fácil para os trolls, spams e aqueles procuram usar o projeto para espalhar suas ideias.[66][156] A adição de spins políticos para artigos de organizações, incluindo membros da Câmara dos Representantes dos Estados Unidos e grupos de interesses especiais,[28] foi observada,[157] e organizações como a Microsoft têm oferecido incentivos financeiros para trabalhar em certos artigos.[158] Estas questões foram parodiadas, nomeadamente por Stephen Colbert no The Colbert Report.[159]Por exemplo, em agosto de 2007, o site WikiScanner começou a rastrear as fontes das alterações feitas na Wikipédia por editores anônimos, sem contas registradas no site. O programa revelou que muitas dessas edições foram feitas por empresas ou agências do governo para alterar o conteúdo de artigos relacionados a eles, seu pessoal ou seu trabalho.[160] O WikiScanner pode ajudar a evitar que uma organização ou indivíduos editem páginas que não deveriam. A nova ferramenta virtual indica que usuários de computadores da Agência Central de Inteligência (CIA), do Federal Bureau of Investigation (FBI), do Vaticano, do Partido Trabalhista do Reino Unido, das Organização das Nações Unidas, da Dell Computers, do Walmart, da Microsoft e da Apple,[161] dentre muitos outros, são responsáveis por edições nos textos do site Wikipedia.[162]Jimmy Wales descreve a Wikipédia como \"um esforço para criar e distribuir uma enciclopédia livre da mais alta qualidade possível para cada pessoa no planeta em sua própria língua\".[144] Embora cada edição possua funções de línguas mais ou menos independentes, alguns esforços estão sendo feitos para supervisionar todos eles. Eles são coordenados, em parte, pelo Meta-Wiki e pela Wikimedia Foundation (dedicada à manutenção de todos os seus projetos, Wikipédia e outros).[145] Por exemplo, o Meta-Wiki fornece estatísticas importantes em todas as versões da Wikipédia,[146] e mantém uma lista dos artigos essenciais, que devem constar em todas as edições do projeto.[147]O acesso à Wikipedia partir de telefones móveis foi possível, já em 2004, através do Wireless Application Protocol (WAP), através do serviço Wapedia. Em junho de 2007, a Wikipédia lançou o pt.mobile.wikipedia.org, um site oficial para dispositivos sem fio. Em 2009 um novo serviço móvel foi lançado oficialmente,[217] localizado em pt.m.wikipedia.org, que atende aos mais avançados dispositivos móveis como o iPhone, dispositivos baseados no Android, ou o Palm Pre. Vários outros métodos de acesso móvel à Wikipédia surgiram. Vários dispositivos e aplicações otimizam ou melhoram a exibição do conteúdo da Wikipédia para dispositivos móveis, enquanto alguns também incorporam funcionalidades adicionais, tais como o uso de metadados da Wikipédia, como a geoinformação.[218][219]O comediante Stephen Colbert citou a Wikipédia em vários episódios de seu programa The Colbert Report e cunhou o termo relacionado wikiality, que significa \"juntos podemos criar uma realidade que todos nós concordamos\".[159] Outro exemplo pode ser encontrado em um artigo de primeira página do The Onion em julho de 2006, com o título \"Wikipedia comemora 750 anos de Independência americana\".[251] Outros brincam com o lema da Wikipédia, como em \"The Negotiation\", em um episódio de The Office, onde o personagem Michael Scott diz:\"... Wikipedia é a melhor coisa que qualquer pessoa no mundo pode escrever o que quiser sobre qualquer assunto, para que você saiba que você está recebendo a melhor informação possível\". \"My Number One Doctor\", em um episódio de 2007 do programa de TV Scrubs, também satirizou a dependência da Wikipédia sobre editores que editam os artigos da cultura erudita e pop, em uma cena em que Dr. Perry Cox reage a um paciente que diz que um artigo da Wikipédia indica que o crudivorismo reverte os efeitos da tumor ósseo por autoclavagem e que o mesmo editor que escreveu que o artigo também escreveu a lista de episódios de Battlestar Galactica.[252] Em um episódio de 30 Rock, Pete e Frank adicionam informações sem sentido para a página Janis Joplin da Wikipédia depois de Jenna dizer que ela deveria procurá-la para saber mais sobre ela, pois, uma vez que a Wikipédia poderia ser editada por qualquer pessoa, foi a pesquisa mais informativa, pois eles descobrem mais a cada dia.[253]Em 16 de setembro de 2007, o The Washington Post informou que a Wikipédia se tornou um ponto focal na eleições dos EUA de 2008, dizendo: \"Digite o nome do candidato no Google e dentre os primeiros resultados estará uma página da Wikipédia, tornando-a, sem dúvida, tão importante quanto qualquer anúncio na definição de um candidato. Enquanto os artigos dos presidenciais estão sendo editados e debatidos inúmeras vezes a cada dia.\"[244]Além do crescimento logístico do número de seus artigos,[222] a Wikipédia tem conquistado status como um site de referência geral desde a sua criação em 2001.[223] De acordo com o Alexa e o comScore, a Wikipédia está entre os dez websites mais visitados do mundo.[17][224] O crescimento da Wikipédia tem sido alimentado por sua posição dominante no resultado de buscas do Google;[225] cerca de 50% do tráfego de motores de buscas para a Wikipédia vem do Google,[226] boa parte do que está relacionado com a pesquisa acadêmica.[227] O número de leitores da Wikipédia em todo o mundo atingiu a marca de 365 milhões no final de 2009.[18] O Pew Research Center e o projeto \"American Life\" constatou que um terço dos usuários da Internet dos Estados Unidos consultam a Wikipédia.[228] Em outubro de 2006, o valor de mercado hipotético do site era estimado em 580 milhões de dólares se ele publicasse anúncios.[229]A Wikipédia também gerou vários projetos irmãos, que são executados pela Wikimedia Foundation. O primeiro, \"Em Memória: 11 de setembro Wiki\",[257] criado em outubro de 2002,[258] falava sobre os Ataques de 11 de setembro de 2001; este projeto foi inativado em outubro de 2006. O Wikcionário, dicionário eletrônico de conteúdo livre, foi lançado em dezembro de 2002;[259] O Wikiquote, uma coleção de citações, foi criado uma semana depois do lançamento da Wikimedia; e ainda há o Wikilivros, uma coleção de livros e textos escritos de forma colaborativa. A Wikimedia, desde então, começou uma série de outros projetos, incluindo o Wikimedia Commons, um site multimídia dedicado ao conhecimento livre; o Wikinotícias, para o jornalismo, e a Wikiversidade, um projeto para a criação materiais de aprendizagem e da prestação de atividades de aprendizagem online.[260] Destes, apenas o Commons tem tido um sucesso comparável ao da Wikipédia.[261]60% dos usuários registrados nunca fazem outra edição após as suas primeiras 24 horas. Possíveis explicações para esse fenômeno são que tais usuários só se inscrevem para uma única finalidade ou são assustados por suas experiências.[135] Goldman escreve que os editores que não cumprem os rituais culturais da Wikipédia, como a assinatura de páginas de discussão, implicitamente dão sinais de que eles são estranhos na comunidade, aumentando as chances de que usuários experientes da Wikipédia tenham como alvo as suas contribuições. Tornar-se um editor experiente da Wikipédia envolve desafios não triviais; o contribuinte deverá construir uma página de usuário, aprender os códigos tecnológicos específicos da Wikipédia, submeter-se a um processo misterioso de resolução de disputas e aprender uma cultura \"desconcertantemente rica em piadas internas e referências privilegiadas.\" Usuários não registrados são, em algum sentido, cidadãos de segunda classe na Wikipédia,[136] visto que os \"participantes são credenciados por membros da comunidade wiki, que têm interesse em preservar a qualidade do produto do trabalho, com base em sua participação em curso,\"[137] mas as contribuições de endereços de IP podem não necessariamente serem creditadas a um usuário em particular.Visto que os contribuintes normalmente reescrevem pequenas porções de um verbete ao invés de fazer grandes revisões em todo o texto, num mesmo artigo pode coexistir conteúdo de alta e de baixa qualidade. Os críticos argumentam que, por vezes, edições de não-especialistas minam a qualidade. Por exemplo, Roy Rosenzweig, em um ensaio de junho de 2006 que combinou tanto elogios como reparos à Wikipédia, teceu várias críticas à sua prosa e sua incapacidade de distinguir o que de fato é importante do meramente sensacional. Ele disse que a Wikipédia é \"surpreendentemente precisa em relatar nomes, datas e acontecimentos da história dos Estados Unidos\" (o campo de estudo de Rosenzweig) e que a maioria dos poucos erros factuais que ele encontrou \"eram pequenos e negligenciáveis\", acrescentando que alguns deles \"simplesmente repetiam crenças divulgadas amplamente, porém imprecisas\", que também são repetidas nas enciclopédias Encarta e na Britannica. No entanto, ele fez uma crítica importante:O problema de privacidade na Wikipédia envolve o direito de um cidadão de permanecer privado, continuar a ser um \"cidadão\" em vez de uma \"figura pública\" aos olhos da lei. É uma espécie de batalha entre o direito de ser anônimo no ciberespaço e o direito de ser anônimo na vida real. O Wikipedia Watch afirma que \"a Wikipédia é uma ameaça potencial a qualquer pessoa que valorize a vida privada\" e que \"um maior grau de responsabilidade na estrutura da Wikipédia\" seria \"o primeiro passo para solucionar o problema da privacidade\".[197]Em abril de 2010 Larry Sanger escreveu uma carta para o Federal Bureau of Investigation, destacando sua preocupação por duas categorias de imagens na Wikipédia conterem pornografia infantil, violando a lei federal sobre obscenidade dos EUA.[192] Sanger mais tarde esclareceu que as imagens, que eram relativas à pedofilia e uma sobre lolicon, não eram fotos de crianças verdadeiras, mas disse que eram \"representações visuais obscenas do abuso sexual de crianças\", nos termos do PROTECT Act de 2003. Essa lei proíbe a pornografia infantil fotográfica e as imagens em desenhos animados e quadrinhos que são consideradas obscenas pela legislação americana.[193] Sanger também expressou preocupações sobre o acesso em escolas às imagens da Wikipédia.[194] A Wikipédia rejeitou enfaticamente a acusação de Sanger.[195] O porta-voz da Wikimedia Foundation, Jay Walsh, disse que a Wikipédia não possui \"material que consideremos ilegal. Se tivéssemos, seria removido.\"[195] Na sequência da queixa apresentada por Larry Sanger, Wales excluíu imagens sexuais sem consultar a comunidade. Depois que alguns editores argumentaram que a decisão de excluí-las foi tomada demasiado às pressas, Wales voluntariamente renunciou a alguns dos poderes que detinha por seu estatuto de cofundador. Ele escreveu em uma mensagem enviada à lista de correio da Wikimedia Foundation que agira assim \"no interesse de encorajar que esta discussão seja sobre questões reais de filosofia e conteúdo, ao invés de ser sobre mim e sobre a rapidez com que eu agi\".[196]Em 8 de agosto de 2014, uma matéria do portal de O Globo[165] afirmou que um dispositivo conectado à internet através da rede sem fio do Palácio do Planalto alterou, em maio de 2013, informações das páginas de Miriam e Carlos Alberto Sardenberg na Wikipédia, com o objetivo de difamá-los. As informações inseridas no artigo de Miriam qualificavam suas análises e previsões econômicas como \"desastrosas\", além de acusá-la de ter defendido \"apaixonadamente\" o banqueiro Daniel Dantas quando este foi preso pela Polícia Federal.[166] Esta última acusação ocorreu em razão de comentário de Miriam na Rádio CBN onde ela defendia a inocência de Dantas.[167] As Organizações Globo foram criticadas por divulgar alterações das biografias de seus contratados na Wikipédia, ferramenta de caráter colaborativo e aberta à edição de todos e que, segundo seu próprio criador, Jimmy Wales, não deve ser usada como fonte primária de informação.[166] Também foram criticadas por só terem noticiado as alterações em plena campanha eleitoral de 2014.[166] O jornalista Miguel do Rosário divulgou que um usuário que navegava através da rede da Companhia de Processamento de Dados do Estado de São Paulo inseriu uma calúnia na biografia do músico Raul Seixas.[168] Ele também relatou que já visitou o Palácio do Planalto e que teve acesso à senha da rede sem fio do gabinete presidencial.[168]Os wikipedistas recebem, por vezes, prêmios ou medalhas por seu bom trabalho, uma espécie de reforço positivo na forma de fichas personalizadas de apreço. Estas fichas revelam uma ampla gama de trabalho valorizado indo muito além de simples edições para incluir suporte social, ações administrativas e os tipos de trabalho de articulação. O fenômeno de medalhas foi analisado por pesquisadores que procuram determinar como isso poderia ter implicações em outras comunidades envolvidas em contribuições de larga escala.[134]Várias edições da Wikipédia também mantêm um serviço de orientação, onde os voluntários respondem a perguntas do público em geral. De acordo com um estudo realizado por Pnina Shachaf no \"Journal of Documentation\", a qualidade do serviço de orientação da Wikipédia é comparável a uma mesa de orientação de uma biblioteca, com uma precisão de 55%.[262]O conteúdo da Wikipedia também tem sido utilizado em estudos acadêmicos, livros, conferências e processos judiciais.[230][231][232] O website do Parlamento do Canadá refere-se ao artigo da Wikipédia sobre casamento homossexual no \"links relacionados\" de sua lista de \"leitura adicional\" do \"Civil Marriage Act\".[233] As afirmações da enciclopédia são cada vez mais utilizadas como fonte por organizações como os tribunais federais dos Estados Unidos e da Organização Mundial da Propriedade Intelectual[234]  – mas principalmente para obter informações de apoio ao invés de informações decisivas em um caso.[235] O conteúdo exibido na Wikipédia também tem sido citado como fonte e referência em alguns relatórios da Comunidade de Inteligência dos Estados Unidos.[236] Em dezembro de 2008, a revista científica RNA Biology lançou uma nova seção para a descrição de famílias de moléculas de RNA e requereu que os autores que contribuem para a seção também apresentassem um projeto de artigo sobre o RNA familiar da Wikipédia.[237]Uma série de enciclopédias interativas que incorporam artigos escritos pelo público já existiam muito antes da Wikipédia ser fundada. A primeira delas foi a BBC Domesday Project, em 1976, que incluía textos (que entraram na BBC Micro computadores) e fotografias feitos por mais de um milhão de contribuintes do Reino Unido, cobrindo temas como geografia, arte e cultura desse país. Essa foi a primeira enciclopédia interativa (e também foi o primeiro grande documento multimídia conectado através de links internos), sendo a maioria dos artigos acessíveis através de um mapa interativo do Reino Unido. A interface do usuário e parte do conteúdo do \"Projeto Domesday\" foram emulados em um site até 2008.[256] Uma das mais bem sucedidas enciclopédias online que incorporava edições feitas pelo público foi a h2g2, criada por Douglas Adams e dirigida pela BBC. A enciclopédia h2g2 tinha foco em artigos informativos. Ambos os projetos citados tinham semelhanças com a Wikipédia, mas também não davam privilégios editoriais completos para seus usuários. Um projeto não-wiki similar, o GNUpedia, coexistia com a Nupedia no início de sua história. No entanto esse foi aposentado e seu criador, Richard Stallman, deu apoio à Wikipédia.[34]Outros defendem a ideia de que a Wikipédia, ou projetos semelhantes, deverá deslocar inteiramente publicações tradicionais. Por exemplo, Chris Anderson, editor-chefe da revista Wired, escreveu na revista Nature que a abordagem de \"sabedoria das multidões\" da Wikipédia não substitui as revista científicas com os seus rigorosos processos de revisão.[221]Contrastando o tratamento dado a Abraham Lincoln na Wikipédia com o oferecido na American National Biography Online pelo historiador da Guerra Civil, James McPherson, Rosenzweig disse que ambos eram essencialmente corretos e cobriam os episódios principais da vida de Lincoln, mas elogiou \"a contextualização mais rica de McPherson... seu hábil uso de citações para capturar a voz de Lincoln,... a sua capacidade de transmitir uma mensagem profunda com apenas um punhado de palavras\". Por outro lado, ele deu um exemplo de prosa da Wikipédia que considerou \"verborreica e sem graça\". Rosenzweig fez ainda uma crítica mais, comparando \"a habilidade e julgamento seguro de um historiador experiente\", exibido por McPherson e outros, com o \"arcaísmo\" da Wikipédia, que ele comparou a esse respeito à revista American Heritage, e disse que embora a Wikipédia forneça frequentemente extensas referências, elas não são as melhores disponíveis.[169]Um estudo de 2009 realizado por Henry Blodget mostrou que uma amostra aleatória de grandes artigos na Wikipedia (medido pela quantidade de texto que sobreviveu na última edição da amostra) foi criada por novatos ou anônimos (usuários com baixas contagens de edições), enquanto a maioria da edição e formatação é feita por usuários experientes (um grupo selecionado de usuários estabelecidos).[138]Em maio de 2014 havia 277 versões ativas da Wikipédia em diferentes idiomas, das quais nove possuíam mais de 1 milhão de artigos, 52 tinham mais de 100 000 artigos e 125 tinham mais de 10 000 artigos.[nota 1]De acordo com o Alexa, o subdomínio anglófono recebe 56,7% do tráfego acumulado da Wikipédia, com o restante dividido entre as outras línguas (seguido do em espanhol: 8%, em japonês: 7,8%, em russo: 5,8%, em alemão: 4,3%).[1] A Wikipédia em inglês possui o maior número de artigos (cerca de 4,5 milhões), seguida em maio de 2014 pela neerlandesa, a alemã, a sueca e a francesa.[nota 1]Rosenzweig também criticou a ambiguidade — encorajada pela política de imparcialidade ou de ponto de vista neutro — significando que é difícil discernir na Wikipédia qualquer orientação interpretativa global da história. Por exemplo, ele citou a conclusão do artigo da Wikipédia em inglês sobre William Clarke Quantrill. Embora em geral elogiando o artigo, considerou sua conclusão indecisa: \"Alguns historiadores... lembram dele como um fora-da-lei oportunista e sedento de sangue, enquanto outros continuam a vê-lo como um soldado audaz e um herói popular.\"[169]Alguns observadores afirmam que a Wikipédia é uma ameaça econômica para os editores de enciclopédias tradicionais, muitos dos quais podem ser incapazes de competir com um produto que é essencialmente livre. Nicholas Carr escreveu no ensaio \"A amoralidade da Web 2.0\", falando sobre a chamada \"Web 2.0\" como um todo: \"implícita nas visões de êxtase de Web 2.0 é a hegemonia do amador. Eu, pelo menos, não posso imaginar nada mais assustador.\"[220]O site de comédia CollegeHumor produziu um esboço de vídeo chamado \"Professor Wikipédia\", em que o fictício Professor Wikipédia instrui uma classe com várias declarações inverificáveis e, ocasionalmente, absurdas.[255]Os artigos da Wikipédia estão organizados basicamente de três formas de acordo com: estado de desenvolvimento, o assunto e o nível de acesso necessário para edição. O estado mais desenvolvido de artigos é chamado de \"artigos destacados\" (AD): artigos classificados como tal são os que serão apresentados na página principal da Wikipédia.[68][69] O pesquisador Giacomo Poderi descobriu que os artigos tendem a atingir o estatuto de AD através do trabalho intensivo de poucos editores.[70] Em 2007, em preparação para a produção de uma versão impressa, a Wikipédia em inglês introduziu uma escala de avaliação contra a qual a qualidade dos artigos é julgada pelos leitores.[71]Um estudo de 2008 conduzido por pesquisadores da Universidade Carnegie Mellon e do Palo Alto Research Center apresentou uma distribuição de temas, bem como o crescimento (de julho de 2006 a janeiro de 2008) em cada campo relativos à Wikipédia em inglês:[104]Todo o texto contido na Wikipedia era coberto pela GNU Free Documentation License (GFDL), uma licença copyleft que permite a redistribuição, a criação de obras derivadas e o uso comercial do conteúdo preservando os direitos autorais dos autores,[81] até junho de 2009, quando foi adotada a licença Creative Commons Attribution-ShareAlike (CC-by-SA) 3.0.[82] A Wikipédia tem trabalhado na mudança para as Licenças Creative Commons porque a GFDL, inicialmente projetada para manuais de software, não foi considerada adequada para obras de referência online e porque as duas licenças eram incompatíveis.[83] Em resposta ao pedido da Fundação Wikimedia, em novembro de 2008, a Free Software Foundation (FSF) lançou uma nova versão da GFDL concebida especificamente para permitir à Wikipédia relicenciar seu conteúdo para CC-BY-SA em 1 de agosto de 2009. A Wikipédia e seus projetos irmãos realizaram um referendo em toda a comunidade para decidir se devia ou não fazer a troca da licença.[84] O referendo ocorreu entre 9 e 30 de abril.[85] Os resultados foram 75,8% \"Sim\", 10,5% \"Não\" e 13,7% \"sem opinião.\"[86] Em consequência do referendo, o Conselho Diretivo da Wikimedia votou para mudar para a licença Creative Commons. A mudança foi efetivada em 15 de junho de 2009.[86] A posição de que a Wikipédia é apenas um serviço de hospedagem tem sido utilizada com sucesso como uma defesa em tribunal.[87][88]A utilização de arquivos de mídia (por exemplo, arquivos de imagem) varia entre as várias edições em diferentes idiomas. Algumas edições da Wikipédia, como a Wikipédia em inglês, incluem arquivos de imagem não-livres sob a doutrina do fair use (em português: uso justo), enquanto outras optaram por não o fazer, em parte, por causa das diferenças nas leis de direitos autorais dos vários países — por exemplo, a noção de fair use não existe na lei de direitos autorais japonesa. Arquivos de mídia cobertos por licenças de conteúdo livre (por exemplo, Creative Commons cc-by-sa) são compartilhados entre as diferentes edições da Wikipédia através do repositório Wikimedia Commons, um projeto também operado pela Wikimedia Foundation.[89]No entanto, deve-se considerar que estes números dizem apenas respeito aos artigos, é possível que um tópico contenha uma série de artigos curtos e outro artigos muito grandes. Além disso, a cobertura exata da Wikipédia está sob constante revisão pelos editores e desacordos não são incomuns (ver também delecionismo e inclusionismo).[109][110]Um \"WikiProjeto\" é um lugar ou conjunto de páginas usadas por um grupo de editores para coordenar o trabalho sobre um tópico específico. As páginas de discussão anexadas a um projeto são muitas vezes usadas para coordenar as mudanças que ocorrem nos artigos relacionados com o projeto. A Wikipédia também mantém um guia de estilo chamado de Livro de Estilo (LE), que estipula, por exemplo, que o título do artigo e outros títulos alternativos devem aparecer em negrito na primeira frase de qualquer artigo.Obter o conteúdo completo da Wikipédia para reutilização apresenta desafios, uma vez que a cópia direta através de um web crawler é desencorajada.[102] A Wikipédia publica \"dumps\" de seu conteúdo, mas estes consistem apenas de texto; em 2007 não havia dumps disponíveis de imagens da Wikipédia.[103]A comunidade Wikipédia estabeleceu \"uma espécie de burocracia\", incluindo \"uma clara estrutura de poder que dá aos administradores voluntários a autoridade para exercer o controle editorial.\"[114][115][116] Editores com boa reputação na comunidade podem ser nomeados para um dos vários níveis de gestão de voluntários, como os autorrevisores (cujas edições são marcadas automaticamente como confiáveis), reversores (para os quais são simplificadas as ações que desfazem edições), eliminadores (que podem eliminar páginas) e administradores (englobando todos os outros, além de poderem bloquear alterações em artigos em caso de vandalismo ou de disputas editoriais e bloquear contas de usuários).[117][118] Apesar do nome, os administradores não desfrutam de qualquer privilégio especial na tomada de decisões; em vez disso eles limitam-se, na sua maioria, a fazer edições que têm efeitos em todo o projeto e que, portanto, não são permitidas aos editores comuns, e a impedir usuários de fazerem edições disruptivas (como o vandalismo).[119][120] Páginas e verbetes podem ser apagados por usuários que possuem os cargos de eliminador ou administrador, através de votações ou por eliminação rápida, quando descumprem alguma política do site.[121] Burocratas e verificadores são dois outros cargos que podem ser atribuídos a editores.A comunidade da Wikipédia tem sido descrita como \"cult\",[111] (embora nem sempre com uma conotação totalmente negativa)[112] e criticada por não acomodar os usuários inexperientes.[113]Como o conteúdo da Wikipédia é distribuído sob uma licença aberta, qualquer um pode reutilizar ou redistribuí-lo sem nenhum custo. O conteúdo da Wikipédia é publicado fora do site Wikipedia em muitas formas, tanto online como offline.A Wikipédia tem muitos métodos de resolução de litígios. O ciclo \"seja audaz, reverta, discuta\" ocorre algumas vezes, quando um usuário faz uma edição, outro usuário reverte essa edição e o assunto é discutido na página de discussão apropriada. Com o fim de obter um consenso mais amplo da comunidade, as questões podem ser levantadas na \"Esplanada\" ou nos \"Pedidos de opinião\", locais em que é solicitada a participação de outros usuários na discussão.[79]Na OOPSLA de 2009, o CTO da Wikimedia Brion Vibber fez uma apresentação intitulada \"Otimização de Desempenho da Comunidade: Fazendo a sua Equipe Funcionar Tão Bem Quanto o Seu Site\" em que discutiu os desafios de lidar com as contribuições de uma grande comunidade e comparou o processo com o de desenvolvimento de softwares.[131]O The New York Times publicou uma coluna com uma pesquisa sobre a Wikipédia no momento do seu décimo aniversário citando que, \"... Wikimedia Foundation colaborou em um estudo da base contribuinte da Wikipédia e descobriu que ela era composta por apenas 13% de mulheres e a idade média de um contribuinte estava entre os 20 e 30 anos, de acordo com o estudo conjunto de um centro da Universidade das Nações Unidas e da Universidade de Maastricht\", e também observa que \"as pesquisas sugerem que menos de 15% de suas centenas de milhares de colaboradores são mulheres. \" A meta estabelecida por Sue Gardner, Diretora Executiva da Fundação Wikimedia, é ver as contribuições femininas aumentarem para 25% até 2015.[132]Existem fóruns especializados que centralizam as discussões de decisões específicas, como por exemplo, se um artigo deve ou não ser eliminado. A mediação é por vezes utilizada, embora tenha sido considerada por alguns wikipedistas inútil na resolução de disputas particularmente controversas. O Conselho de arbitragem (ArbCom) da Wikipédia resolve disputas quando outros métodos falham. O ArbCom geralmente não se pronuncia sobre a exatidão fatual do conteúdo do artigo, embora, por vezes, imponha a política do \"ponto de vista neutro\". Análises estatísticas sugerem que a resolução de disputas na Wikipédia ignora o conteúdo das disputas de usuários e centra-se, ao invés disso, na conduta do usuário, funcionando não tanto para resolver disputas e promover a paz entre os usuários conflitantes, mas para eliminar usuários problemáticos enquanto os usuários potencialmente produtivos voltam a participar. Suas soluções incluem o banimento de usuários da Wikipédia (usado em 15,7% dos casos), soluções em relação ao assunto (23,4%), bloqueio de artigos (43,3%) e avisos e penalidades (63,2%).[nota 4] Entretanto, nem todas as versões da Wikipédia possuem um ArbCom, sendo esta uma ferramenta opcional. Proibições totais de edição na Wikipédia são em grande parte limitadas aos casos de personificação falsa e comportamento antissocial. Tendem a ser emitidos mais avisos para problemas na conduta de edição e condutas anticonsenso do que para condutas antissociais.[80]Em um estudo de 2003 sobre a comunidade da Wikipédia, a doutoranda em economia Andrea Ciffolilli argumentou que os baixos custos de transação de participar de software wiki criaram um catalisador para o desenvolvimento colaborativo e que uma abordagem de \"construção criativa\" incentiva a participação.[126] Em seu livro 2008, O Futuro da Internet e Como Pará-lo, Jonathan Zittrain, do Oxford Internet Institute e do Berkman Center for Internet & Society, pertencente à Harvard Law School, cita o sucesso da Wikipédia como um caso de como a colaboração aberta tem fomentado a inovação na web.[127] Um estudo de 2008 revelou que usuários da Wikipédia eram menos agradáveis e abertos, embora mais conscientes, que os não-usuários da Wikipedia.[128][129] Um estudo de 2009 sugeriu que havia \"indícios de uma crescente resistência da comunidade da Wikipédia a novos conteúdos.\"[130]De acordo com as regras da Wikipédia, só os temas considerados \"enciclopédicos\" são dignos de ter verbete na Wikipédia, e esse verbete não deve ser redigido como um verbete de dicionário.[73] Os temas dos artigos devem também atender aos padrões de \"notoriedade\" da Wikipédia,[74] o que normalmente significa que ele deve ter recebido uma cobertura significativa em fontes secundárias confiáveis, tais como a mídia ou grandes revistas acadêmicas que são independentes do assunto do tópico. Além disso, a Wikipédia deve expor o conhecimento que já está estabelecido e reconhecido.[75] — em outras palavras, não deve apresentar, por exemplo, novas informações ou obras originais. Uma alegação que é suscetível de ser questionada requer pelo menos uma referência a uma fonte confiável. Entre os editores da Wikipédia, isto é frequentemente descrito como \"comprovação, não a verdade\", para expressar a ideia de que os leitores, e não a enciclopédia, são responsáveis por verificar a veracidade dos artigos e fazer as suas próprias interpretações.[76] Finalmente, a Wikipédia não deve tomar partido.[77] Todas as opiniões e pontos de vista, se imputáveis a fontes externas, deverão ser adequadamente cobertos pelo texto do artigo.[78] Isto é conhecido como ponto de vista neutro, ou NPOV.Vários outros projetos de wiki-enciclopédias foram iniciados, em grande parte sob uma filosofia diferente do modelo editorial aberto e baseado no chamado \"princípio da imparcialidade\" da Wikipédia. O Wikinfo, por exemplo, não requer um ponto de vista neutro e permite pesquisas originais. Novos projetos inspirados na Wikipédia — como o Citizendium, Scholarpedia, Conservapedia e o Knol, da Google, onde os artigos são um pouco mais ensaísticos[47] — foram iniciados para tratar de limitações de percepção da Wikipédia, como suas políticas sobre revisão por pares, pesquisa original e publicidade comercial.Citando temores de publicidade comercial ser inserida no site e a falta de controle numa Wikipédia que viam como sendo anglo-cêntrica, usuários da Wikipédia em espanhol criaram uma versão independente da Wikipédia em fevereiro de 2002, a Enciclopedia Libre.[45] Mais tarde naquele ano, Wales anunciou que a Wikipédia não iria exibir anúncios publicitários e seu site foi movido para wikipedia.org.[46]Por razões legais, o conteúdo na Wikipédia está sujeito às leis (lei de direitos autorais em particular) da Flórida, onde os servidores da Wikipédia estão hospedados. Além disso, os princípios editoriais da Wikipédia são incorporados nos \"cinco pilares\" e em numerosas políticas e diretrizes que destinam-se a moldar o conteúdo de forma adequada. Até mesmo essas regras são armazenadas em forma de wiki e os editores da Wikipédia, como uma comunidade, podem escrever e revisar as políticas e diretrizes[72] e aplicá-las por exclusão, marcando com tags, ou modificando o conteúdo dos artigos para deixá-los de acordo com tais regulamentações. As regras nas edições não-inglesas da Wikipédia ramificaram-se através de traduções da Wikipédia em inglês e desde então divergiram, em certa medida. Enquanto elas ainda apresentam várias semelhanças, tais regras diferem em muitos detalhes entre as várias versões da Wikipédia.A Wikipédia não exige que seus usuários forneçam a sua identificação.[122] No entanto, como a Wikipédia cresce através do seu modelo não convencional de construção de enciclopédia, \"Quem escreve a Wikipédia?\" tornou-se uma das perguntas mais frequentes sobre o projeto, muitas vezes com uma referência para outros projetos de Web 2.0 como o Digg.[123] Jimmy Wales afirmou certa vez que apenas \"uma comunidade...um grupo dedicado de algumas centenas de voluntários\" faz a maior parte das contribuições para a Wikipédia e que o projeto é, portanto, \"como qualquer organização tradicional.\" Wales realizou um estudo onde constatou que mais de 50% de todas as edições são feitas por apenas 0,7% dos usuários (ou seja, 524 pessoas em 2006, ano da pesquisa). Este método de avaliação de contribuições foi posteriormente contestada por Aaron Swartz, que observou que vários artigos de uma amostragem que efetuou tinham grande parte do seu conteúdo (medida pelo número de caracteres) contribuído por usuários com baixas contagens de edições.[124] Um estudo de 2007 realizado por pesquisadores da Faculdade de Dartmouth descobriu que \"colaboradores anônimos e pouco frequentes na Wikipédia... são confiáveis e uma fonte de conhecimento tanto quanto os contribuintes que se inscrevem no site.\"[125] Embora alguns contribuintes sejam autoridades em suas áreas, a Wikipédia exige que mesmo os seus contributos sejam apoiados por publicações e fontes verificáveis. A preferência do projeto pelo consenso sobre credenciais foi rotulada como \"anti-elitismo\".[25]A Esplanada é o principal local de interação entre os usuários após as páginas de discussão; nela é possível fazer anúncios, perguntas e propostas de alterações nas políticas do projeto.[79]Editores novos ou ocasionais têm taxas significativamente mais altas de suas edições revertidas (removidas) do que um grupo de elite de editores regulares, coloquialmente conhecido como a \"panela\". Isso poderá estar a tornar mais difícil para o projeto recrutar e reter novos colaboradores a longo prazo, resultando na estagnação da criação de novos artigos. Outros sugerem que o crescimento está a nivelar naturalmente, pois os artigos mais básicos já existem.[51][52]Larry Sanger e Jimmy Wales fundaram a Wikipédia.[35][36] Embora Wales seja creditado por definir o objetivo de fazer uma enciclopédia editável publicamente,[37][38] Sanger é geralmente creditado pela estratégia de usar um wiki para alcançar esse objetivo.[39] Em 10 de janeiro de 2001, Larry Sanger propôs na lista de discussão da Nupedia a criação de um wiki como um projeto \"alimentador\" para a Nupedia.[40]A Wikipédia começou como um projeto complementar para a Nupedia, um projeto de enciclopédia online gratuita de língua inglesa, cujos artigos eram escritos por especialistas e revistos em um processo formal.[33] A Nupedia foi fundada em 9 de março de 2000, sob a posse da Bomis, uma empresa de portal web. Suas principais figuras eram Jimmy Wales, CEO da Bomis, e Larry Sanger, editor-chefe da Nupedia e posteriormente da Wikipédia. A Nupedia foi licenciada inicialmente sob sua própria Licença de Conteúdo aberto Nupedia, a mudança para a GNU Free Documentation License aconteceu antes da fundação da Wikipédia, a pedido de Richard Stallman.[34]Embora a Wikipédia em inglês tenha chegado aos três milhões de artigos em agosto de 2009, o crescimento de edições, em termos de números de artigos e de colaboradores, parece ter estabilizado em torno do início de 2007.[48] Em 2006, cerca de 1 800 artigos foram adicionados diariamente à enciclopédia; até 2010 essa média era de cerca de 1 000.[49] A equipe do Palo Alto Research Center especulou que isso se deve ao aumento da exclusividade do projeto.[50]Membros da comunidade predominantemente interagem uns com os outros através das páginas de \"discussão\", que são páginas wiki-editáveis que estão associadas com os artigos, bem como através de páginas de discussão que são específicas para editores em particular e páginas de discussão que ajudam a gerir o site. Essas páginas ajudam os contribuintes a chegarem a um consenso sobre o que o conteúdo dos artigos deve constar, sobre quais regras do site podem mudar e tomar medidas com relação a qualquer problema dentro da comunidade.[133]A Wikipédia foi formalmente lançada em 15 de janeiro de 2001, como uma única edição em inglês em www.wikipedia.com[41] e anunciada por Sanger na lista de discussão da Nupedia.[37] A política do \"ponto de vista neutro\" da Wikipédia\"[42] foi codificada em seus meses iniciais e era semelhante à política anterior da Nupedia de \"não-parcialidade\". Por outro lado, inicialmente havia relativamente poucas regras e a Wikipédia operava independentemente da Nupedia.[37]Em novembro de 2009, uma tese de doutorado escrita por Felipe Ortega, um pesquisador da Universidade Rey Juan Carlos em Madrid, revelou que a Wikipédia em inglês havia perdido 49 000 editores nos primeiros três meses de 2009, enquanto que durante o mesmo período em 2008 o mesmo projeto perdeu apenas 4 900 editores.[53][54]O The Wall Street Journal relatou que \"um número sem precedentes de milhões de voluntários online que escrevem, editam e policiam a Wikipédia está desistindo.\" Entre as razões citadas no artigo para esta tendência encontram-se a matriz de regras aplicadas à edição e disputas relacionadas a tais conteúdos.[55] Estas alegações foram contestadas por Jimmy Wales, que negou o declínio e questionou a metodologia do estudo.[56]A Wikipédia ganhou os primeiros colaboradores da Nupedia, de postagens no Slashdot e indexação do motor de busca na web. Até o final de 2001, o site já havia crescido para cerca de 20 000 artigos em 18 idiomas. No final de 2002, tinha alcançado 26 edições em idiomas diferentes, 46 até o final de 2003 e 161 nos últimos dias de 2004.[43] A Nupedia e a Wikipédia coexistiram até os servidores da primeira serem retirados de forma permanente em 2003 e seu texto incorporado na Wikipedia. A Wikipédia em inglês passou a marca dos dois milhões de artigos em 9 de setembro de 2007, tornando-a a maior enciclopédia já construída, superando até mesmo a Enciclopédia Yung-lo Ta-tien (1407), que detinha esse recorde desde há exatamente 600 anos.[44]Embora as políticas da Wikipédia defendam fortemente a verificabilidade e um ponto de vista neutro, seus críticos acusam-na de viés sistêmico e inconsistências (incluindo o peso excessivo dado à cultura popular)[25] e alegam que ela favorece o consenso sobre credenciais em seus processos editoriais.[26] Sua confiabilidade e precisão também são alvo de críticas.[27] Outras críticas apontam a sua suscetibilidade ao vandalismo e à adição de informações falsas ou não verificadas;[28] no entanto, trabalhos acadêmicos sugerem que os vandalismos são geralmente de curta duração.[29][30] Uma pesquisa de 2005 na revista Nature mostrou que os artigos científicos que eles compararam chegavam perto do nível de precisão da Encyclopædia Britannica e tinham uma taxa semelhante de \"erros graves\".[31] Outra pesquisa de 2011 realizada pelo ForeSee Results e divulgada pela CNET mostrou que, em uma escala de satisfação de 0 a 100, os internautas atribuíram 78 pontos à Wikipédia, um resultado maior que o de outros sites consagrados, como YouTube e Facebook.[32]Contribuintes, registrados ou não, podem tirar proveito dos recursos disponíveis no software que opera a Wikipédia. A página \"Ver histórico\" que acompanha cada artigo, regista toda e qualquer versão anterior do verbete, embora uma revisão com conteúdo calunioso, ameaças criminosas ou violações de direitos autorais possa ser removida mais tarde.[66] [nota 3] Esta característica torna mais fácil comparar antigas e novas versões do artigo, desfazer alterações que um editor considera indesejáveis, ou restaurar um conteúdo perdido. A página \"Discussão\", associada a cada artigo, é utilizada para coordenar o trabalho entre vários editores.[67] Editores regulares muitas vezes mantêm uma lista de \"páginas vigiadas\" de artigos de interesse para eles, de modo que eles podem facilmente manter o controle sobre todas as alterações recentes nessas páginas. Programas de computador chamados robôs têm sido amplamente utilizados para remover vandalismos logo que eles são feitos,[30] para corrigir erros comuns e questões estilísticas, ou para iniciar artigos, tais como entradas de geografia em um formato padrão a partir de dados estatísticos.Por padrão, qualquer edição em um artigo se torna disponível imediatamente, antes de qualquer revisão. Isto significa que um artigo pode conter erros, contribuições equivocadas, defesa de algo, ou mesmo absurdos evidentes, até que outro editor corrija o problema. Edições em diferentes idiomas, cada uma sob controle administrativo separado, são livres para modificar esta política. Por exemplo, a Wikipédia em alemão mantém um sistema de \"versões estáveis\" de artigos,[62] para permitir que um leitor veja as versões dos artigos que passaram por certas revisões. Em junho de 2010, os administradores anunciaram que a Wikipédia em inglês eliminaria as restrições de edição estritas de artigos \"controversos\" ou propensos a vandalismo (como George W. Bush, David Cameron, ou lição de casa) usando revisões.[63][64] No lugar de proibir edições de usuários novos ou não registrados, haveria um \"novo sistema, chamado de 'alterações pendentes'\" que, como Jimmy Wales disse à BBC, permitiria à Wikipédia em inglês \"liberar os artigos que foram protegidos ou semi-protegidos por anos para a edição geral.\" O sistema de \"alterações pendentes\" foi introduzido em 15 de junho de 2010, pouco depois das 23:00 GMT. Edições em artigos especificados são agora \"sujeitas a revisão de um editor estabelecido da Wikipédia antes da publicação.\" Wales opôs-se ao modelo da Wikipédia em alemão de exigir revisão do editor antes de edições em qualquer artigo, descrevendo-o como \"desnecessário e indesejável.\" Ele acrescentou que os administradores da Wikipédia em alemão irão \"acompanhar de perto o sistema da versão inglesa e tenho certeza que eles vão, pelo menos, considerar a mudança se os resultados forem bons.\"[65]A Wikipédia afasta-se do estilo tradicional de construção de uma enciclopédia, possuindo uma grande presença de conteúdo não-acadêmico. Quando a revista Time reconheceu \"Você\" como a Pessoa do Ano de 2006, devido ao sucesso acelerado da colaboração online e da interação de milhões de usuários ao redor do mundo, citou a Wikipédia como um dos vários exemplos de serviços Web 2.0, juntamente com YouTube, MySpace e Facebook.[21] Alguns têm notado a importância da Wikipédia, não apenas como uma referência enciclopédica, mas também como um recurso de notícias atualizado com frequência por causa da rapidez com que artigos sobre acontecimentos recentes aparecem.[22][23] Estudantes têm sido orientados a escrever artigos para a Wikipédia como um exercício de explicar de forma clara e sucinta conceitos difíceis para um público não iniciado.[24]Em janeiro de 2007, a Wikipédia entrou na lista dos dez sites mais populares nos Estados Unidos, segundo a comScore Networks Inc. Com 42,9 milhões de visitantes únicos e o 9º lugar, a Wikipédia superou os sites do The New York Times (10º) e Apple Inc. (11º). Foi um aumento significativo em relação a janeiro de 2006, quando o site estava posicionado no 33º lugar, com apenas 18,3 milhões de visitantes únicos.[57] Em abril de 2011, a Wikipédia foi listada como o quinto site mais popular do mundo pela Google Inc.[58][59]A Wikipédia é um projeto de enciclopédia [5] multilíngue[6] de licença livre [7] [8], baseado na web e escrito de maneira colaborativa;[9][10][8] encontra-se, atualmente, sob administração da Fundação Wikimedia,[11] uma organização sem fins lucrativos cuja missão é \"empoderar e engajar pessoas pelo mundo para coletar e desenvolver conteúdo educacional sob uma licença livre ou no domínio público, e para disseminá-lo efetivamente e globalmente\".[12] Integrando um dos vários projetos[7] mantidos pela Wikimedia, os mais de 43 milhões de artigos (991 324 em português, até 09 de fevereiro de 2018) hoje encontrados na Wikipédia foram escritos de forma conjunta por diversos voluntários ao redor do mundo; e quase todos os verbetes presentes no site podem igualmente ser editados por qualquer pessoa com acesso à internet e ao sítio eletrônico http://www.wikipedia.org.[nota 2] Em outubro de 2013, havia edições ativas da Wikipédia em 277 idiomas. A Wikipédia foi lançada em 15 de janeiro de 2001 por Jimmy Wales e Larry Sanger[13] e tornou-se a maior e mais popular obra de referência geral na Internet,[14][15][16][17] sendo classificada em torno da sétima posição entre todos os websites do Alexa e tendo cerca de 365 milhões de leitores.[14][18] A Wikipédia é uma ferramenta de pesquisa amplamente utilizada por estudantes e tem influenciado o trabalho de publicitários, pedagogos, sociólogos e jornalistas, que usam seu material, mesmo que nem sempre citem suas fontes.[19]A Wikipédia pretende criar um resumo de todo o conhecimento humano na forma de uma enciclopédia online, com cada tópico do conhecimento coberto enciclopedicamente por um artigo. Uma vez que tem espaço em disco praticamente ilimitado, o site pode conter muito mais temas do que podem ser cobertos por qualquer enciclopédia impressa convencional.[105] Além disso, contém materiais que algumas pessoas podem achar censuráveis, ofensivos ou pornográficos.[106] Foi esclarecido que esta política não está em debate, mas ela tem-se revelado controversa. Por exemplo, em 2008, a Wikipédia rejeitou uma petição online contra a inclusão de representações de Maomé em sua edição em inglês, citando esta política. A presença de materiais politicamente sensíveis na Wikipédia também levou a República Popular da China a bloquear o acesso a partes do site.[107]Em setembro de 2009, os artigos da Wikipédia cobriam cerca de meio milhão de lugares na Terra. No entanto, uma pesquisa realizada pelo Oxford Internet Institute mostrou que a distribuição geográfica dos artigos de todas as versões da Wikipédia é muito desigual. A maioria dos artigos são escritos sobre a América do Norte, Europa e Ásia Oriental, com muito pouca cobertura de grandes partes do mundo em desenvolvimento, incluindo a maior parte da África.[108]O nome Wikipedia foi criado por Larry Sanger[20] e é uma combinação de wiki (uma tecnologia para criar sites colaborativos, a partir da palavra havaiana wiki, que significa \"rápido\") e enciclopédia. A palavra \"Wikipédia\" é uma adequação lusófona da forma original anglófona sobre a fusão dos dois nomes que formam o termo. Em português, o prefixo \"Wiki\" é somado ao sufixo de \"enciclopédia\", ganhando acento diacrítico agudo no e, para atender à gramática lusófona.Afastando-se do estilo das enciclopédias tradicionais, a Wikipédia emprega um sistema aberto, um modelo de edição \"wiki\". Exceto por algumas páginas particularmente propensas ao vandalismo, cada artigo pode ser editado de forma anônima ou com uma conta de usuário. Edições em diferentes idiomas modificam esta política; por exemplo: na edição em inglês apenas os utilizadores registados podem criar um novo artigo. Nenhum artigo ou o seu conteúdo é propriedade do seu criador ou de qualquer outro editor, ou é avaliado por qualquer autoridade reconhecida; ao contrário, os conteúdos são acordados por consenso.[61]Sueco (sv:) • Alemão (de:) • Francês (fr:) • Neerlandês (nl:) • Russo (ru:) • Italiano (it:) • Espanhol (es:) • Polonês/Polaco (pl:) • Samarês (war:) • Vietnamita (vi:) • Japonês (ja:)Em dezembro de 2008 o Internet Watch Foundation, organização que lista sites que possuem material ilegal ou potencialmente ilegal, adicionou a Wikipédia à sua lista de sites perigosos. Devido a seis dos maiores provedores de internet do Reino Unido usarem o site para bloquear páginas perigosas, 95% das residências do país ficaram impossibilitadas de acessar o site, devido à imagem da capa do álbum Virgin Killer, da banda alemã Scorpions.[202][203][204]Em maio de 2010, houve discussões entre os editores sobre a existência de imagens com tema sexual no Wikimedia Commons.[189] Estas resultaram em outras discussões, sobre as mudanças nas normas do repositório.[189]O artigo sobre \"Virgin Killer\", um álbum de 1976 da banda alemã de heavy metal Scorpions, apresenta uma imagem da capa original do álbum, que retrata uma menina pré-adolescente nua. A publicação da capa original causou polêmica e ela foi substituída em alguns países. Em dezembro de 2008, o acesso ao artigo da versão inglesa \"Virgin Killer\" foi bloqueado durante quatro dias pela maioria dos provedores de serviços de internet no Reino Unido, depois que foi denunciado por um leitor como pornografia infantil.[190] A Internet Watch Foundation, uma organização não-governamental sem fins lucrativos, criticou a inclusão da fotografia como \"de mau gosto\".[191]A Wikipédia é uma enciclopédia hospedada e financiada pela Wikimedia Foundation, uma organização sem fins lucrativos que opera a Wikipédia e projetos relacionados, tais como o Wikcionário, Wikilivros e outros. Os capítulos Wikimedia, associações locais de usuários e defensores dos projetos Wikimedia, participam também da promoção, desenvolvimento e financiamento do projeto.Outros sites centrados na colaboração à base de conhecimento têm se inspirado na Wikipédia. Alguns, como Susning.nu, Enciclopedia Libre, Hudong, Baidu Baike e WikiZnanie, também empregam processos formais de revisão, enquanto outros usam métodos mais tradicionais de revisão por pares, como Encyclopedia of Life, Stanford Encyclopedia of Philosophy, Scholarpedia, h2g2 e Everything2. A wiki online Citizendium foi iniciada pelo cofundador da Wikipédia, Larry Sanger, na tentativa de criar um \"auxiliar\" para a Wikipédia.[263][264][265]Como consequência da sua estrutura aberta, a Wikipédia \"não dá nenhuma garantia de validade\" do seu conteúdo, já que ninguém é responsável por quaisquer reivindicações que nela figuram.[173] Preocupações têm sido levantadas quanto à falta de responsabilidade que resulta do anonimato dos usuários,[174] a inserção de informações falsas,[175] vandalismos e problemas semelhantes.A Wikipédia tem sido criticada por permitir a publicação em seus artigos de materiais visuais de conteúdo sexual, como imagens e vídeos de masturbação e ejaculação, bem como cenas de filmes pesadamente pornográficos. Ativistas de proteção à criança dizem que conteúdo sexual visual aparece em várias páginas da Wikipédia, exibido sem qualquer aviso ou categorização de idade.[188]Em janeiro de 2006 um tribunal alemão ordenou o fechamento da Wikipédia em alemão na Alemanha por ter publicado o nome completo do Boris Floricic, também conhecido como \"Tron\", um hacker que era antigamente membro do Chaos Computer Club. Mais especificamente, o tribunal ordenou que a URL no domínio alemão.de (http://www.wikipedia.de/) não poderia redirecionar para servidores da enciclopédia na Flórida, em http://de.wikipedia.org, embora os leitores alemães ainda permanecessem capazes de usar a URL baseada nos EUA diretamente, e não houve praticamente nenhuma perda de acesso por parte deles. A ordem judicial surgiu de uma ação movida pelos pais Floricic, exigindo que o sobrenome de seu filho fosse retirado da Wikipédia.[199] Em 9 de fevereiro de 2006 a liminar contra a Wikimedia Deutschland foi anulada, com o juiz rejeitando a noção de que o direito de privacidade de Tron ou de seus pais estivesse sendo violado.[200] Os demandantes apelaram para o Tribunal do Estado de Berlim, mas o processo foi recusado em maio de 2006.[201]Em 2005 a Agence France-Presse citou Daniel Brandt, o proprietário do Wikipedia Watch, dizendo que \"o problema básico é que ninguém, nem os administradores da Wikimedia Foundation, nem os voluntários que estão conectados com a Wikipédia, consideram-se responsáveis pelo seu conteúdo\".[198]O Wikipedia Watch criticou o site em 2006, quando listou dezenas de exemplos de plágio cometidos pelos editores da Wikipédia em inglês.[186] Jimmy Wales, cofundador da Wikipédia,[187] disse a este respeito: \"Nós precisamos lidar com tais atividades com rigor absoluto, sem piedade, porque este tipo de plágio está 100% em desacordo com todos os nossos princípios fundamentais.\"[186]Outros críticos fizeram acusações semelhantes, dizendo que mesmo que os artigos da Wikipédia sejam factualmente precisos, muitas vezes são escritos em um estilo pobre e quase ilegível. O frequente crítico da Wikipédia, Andrew Orlowski, comentou: \"Mesmo quando uma página na Wikipedia é 100 por cento correta factualmente, e esses fatos são cuidadosamente escolhidos, muitas vezes o resultado parece como se tivesse sido traduzido de uma língua para outra, em seguida para uma terceira, em todos os estágios passando pelas mãos de tradutores incompetentes.\"[170] Um estudo de artigos sobre câncer realizado por Yaacov Lawrence do Kimmel Cancer Center, na Universidade Thomas Jefferson, descobriu que os verbetes eram, em sua maioria, precisos, mas eram escritos no nível de leitura da faculdade, ao contrário do nível de colegial visto no Physician Data Query. Lawrence disse que \"falta de legibilidade da Wikipédia pode refletir suas origens variadas e edições casuais.\"[171] A The Economist observou que a qualidade da escrita dos artigos da Wikipédia pode ser um guia para o leitor: \"a prosa deselegante ou o discurso retórico geralmente refletem pensamentos confusos e informações incompletas.\"[172] Um estudo de 2005 feito pela revista Nature, comparando o conteúdo científico da Wikipédia e o da Encyclopædia Britannica, afirmou que a precisão da Wikipédia foi próxima a da Britannica, mas que a estrutura dos artigos da Wikipédia era muitas vezes pobre.\"[31]Norueguês (Bokmål) (no:) • Servo-croata (sh:) • Finlandês (fi:) • Húngaro (hu:) • Indonésio (id:) • Coreano (ko:) • Checo (cs:) • Romeno (ro:) • Malaio (ms:) • Turco (tr:) • Basco (eu:)A Wikipédia tem sido acusada de expor viés sistêmico e inconsistência;[27] além disso, os críticos argumentam que a natureza aberta da Wikipedia e a falta de fontes adequadas para grande parte da informação torna o conteúdo pouco confiável.[176] Alguns analistas sugerem que a Wikipédia é geralmente de confiança, mas que a confiabilidade de qualquer artigo nem sempre é clara.[26] Editores de obras de referência tradicionais como a Encyclopædia Britannica têm questionado a utilidade do projeto e seu status como uma enciclopédia.[177] Muitos professores universitários desencorajam os estudantes de citar qualquer enciclopédia em trabalhos acadêmicos, preferindo fontes primárias;[178] alguns proíbem especificamente citações da Wikipédia.[179] O cofundador Jimmy Wales salienta que enciclopédias de qualquer tipo normalmente não são apropriadas como fontes primárias e não devem ser invocadas como autoridades.[180]A operação na Wikipédia é realizada através do software wiki livre e de código aberto chamado \"MediaWiki\", o qual é escrito em PHP e usa o banco de dados MySQL. O software incorpora recursos de programação como uma macrolinguagem, variáveis, um sistema de transclusão de templates e redirecionamento de URLs. O MediaWiki está licenciado sob a GNU General Public License e é usado por todos os projetos da Wikimedia, assim como muitos outros projetos wiki. Originalmente, a Wikipédia funcionava com o em UseModWiki escrito em Perl por Clifford Adams (primeira fase), que inicialmente requeria hiperligações nos artigos por meio do CamelCase; o estilo atual de faixa dupla só foi incorporado mais tarde.[205]A natureza aberta do modelo de edição tem sido o mote da maioria das críticas à Wikipedia. Por exemplo, um leitor de um artigo não pode ter certeza de que determinado verbete não foi comprometido pela inserção de informações falsas ou pela remoção de informações essenciais. O ex-editor chefe da Encyclopædia Britannica, Robert McHenry, certa vez descreveu isto dizendo:[151]No entanto, o vandalismo óbvio é fácil de remover nos artigos wiki, já que as versões anteriores de cada artigo são mantidas. Na prática, o tempo médio para detectar e corrigir vandalismos é muito baixo, normalmente de alguns minutos,[29][30] mas em um incidente particularmente bem divulgado, uma informação falsa foi introduzida na biografia do político estadunidense John Seigenthaler e permaneceu despercebida por quatro meses.[153] John Seigenthaler, o diretor editorial fundador do USA Today e fundador do \"Centro Primeira Emenda\" da Universidade Vanderbilt, chamou Jimmy Wales e perguntou-lhe se existia alguma forma de saber quem contribuiu com a desinformação. Wales respondeu que não, mas, no entanto, o autor acabou por ser rastreado.[154][155] Este incidente levou a mudanças nas políticas no site, especificamente orientadas para o reforço verificabilidade de todos os artigos biográficos de pessoas vivas.A partir de janeiro de 2002 (segunda fase), a Wikipédia passou a contar com um software escrito em PHP wiki, por meio de um banco de dados MySQL, feito sob medida para a Wikipédia por Magnus Manske. Nessa fase, o software foi modificado várias vezes, para acomodar a demanda exponencialmente crescente. Em julho de 2002, a Wikipédia passou a utilizar um software de terceira geração, o MediaWiki, feito e desenvolvido por Lee Daniel Crocker. Várias extensões dMediaWiki estão instaladas[206] para estender a funcionalidade deste software. Em abril de 2005, uma extensão Lucene foi adicionada ao software MediaWiki em \"bult-in\" e o banco de dados de indexação, que até aí era MySQL, passou a ser do tipo Lucene.[207][208] Atualmente, a extensão Lucene 2.1[209] é escrita em Java e baseada na Lucene library 2.3.[210]No entanto, uma investigação relatada na revista Nature, em 2005, sugeriu que os artigos científicos da Wikipédia chegaram perto do nível de precisão da Encyclopædia Britannica e tinham uma taxa semelhante de \"erros graves\".[31] Estas alegações foram contestados pela Encyclopædia Britannica.[181][182]Esperanto (eo:) • Búlgaro (bg:) • Arménio (hy:) • Dinamarquês (da:) • Min Nan (zh-min-nan:) • Eslovaco (sk:) • Minangkabau (min:) • Cazaque (kk:) • Hebraico (he:) • Lituano (lt:) • Croata (hr:) • Estoniano (et:) • Checheno (ce:) • Esloveno (sl:) • Bielorrusso (be:) • Galego (gl:) • Grego (el:) • Norueguês (Nynorsk) (nn:) • Inglês simples (simple:) • Azeri (az:) • Usbeque (uz:) • Latim (la:) • Urdu (ur:) • Hindi (hi:) • Tailandês (th:) • Volapuque (vo:) • Georgiano (ka:) • Tâmil (ta:)Em setembro de 2008, a Wikipédia recebeu o prêmio Quadriga Uma Missão de Iluminação, atribuído por Werkstatt Deutschland, juntamente com Boris Tadic, Eckart Höfling e Peter Gabriel. O prêmio foi entregue a Jimmy Wales por David Weinberger.[248]A Wikipédia recebe entre 25 000 e 60 000 pedidos de página por segundo, dependendo da hora do dia.[214] As solicitações de página são servidas por uma camada de servidores de cache Squid.[215] Além disso, as estatísticas ficam disponíveis publicamente por 3 meses para o acesso da Wikipédia. Os pedidos que não podem ser atendidos a partir do cache são enviados para servidores de balanceamento de carga executando o software Linux Virtual Server, que por sua vez, passa a solicitação para um dos servidores web Apache para a renderização de páginas do banco de dados. Os servidores web atualizam o cache conforme solicitado, realizando renderização de páginas para todas as versões da Wikipédia. Para aumentar a velocidade ainda mais, as páginas processadas são armazenadas em um cache de memória distribuído até ser invalidado, permitindo que a maioria das solicitações de páginas comuns dispensem nova renderização. Atualmente grande parte da carga de tráfego da Wikipédia é suportada por dois clusters maiores nos Países Baixos e na Coreia do Sul.[216]Em fevereiro de 2007, um artigo no jornal The Harvard Crimson informou que alguns dos professores da Universidade de Harvard incluem a Wikipédia em suas ementas, mas que há uma divisão na sua percepção do uso da Wikipédia.[184] Em junho de 2007, o ex-presidente da American Library Association, Michael Gorman, condenou a Wikipédia, juntamente com o Google,[185] afirmando que os acadêmicos que apoiam o uso da Wikipédia são \"o equivalente intelectual de um nutricionista, que recomenda uma dieta constante de Big Macs com tudo.\" Ele também disse que \"uma geração de preguiçosos intelectuais incapazes de ir além da Internet\" estava sendo produzida nas universidades. Ele reclama que as fontes baseadas na web são desanimadoras da aprendizagem dos alunos a partir dos textos mais raros que sejam encontradas apenas no papel ou estão em locais de inscrição somente pela web. No mesmo artigo Jenny Fry (um pesquisador do Oxford Internet Institute) comentou sobre acadêmicos que citam a Wikipédia, dizendo que: \"Você não pode dizer que as crianças são intelectualmente preguiçosas porque elas estão usando a Internet, quando os acadêmicos estão usando os motores de busca em suas pesquisas. A diferença é que eles têm mais experiência para serem críticos sobre o que estão pesquisando e se ele é autoritário. As crianças precisam ser ensinadas a usar a Internet de forma crítica e adequada.\"[185]O economista Tyler Cowen escreve: \"Se eu tivesse que adivinhar se é a Wikipédia ou um artigo de um jornal médio sobre economia qual é mais provável que esteja dizendo a verdade, acho que depois de não muito tempo eu optaria pela Wikipédia\". Ele comenta que muitas fontes tradicionais de não-ficção sofrem preconceitos sistêmicos. Resultados novos são excessivamente relatados em artigos de revistas, enquanto informações relevantes são omitidas do noticiário. No entanto, ele também adverte que erros são frequentemente encontrados em sites de Internet e que os acadêmicos e especialistas devem estar atentos para corrigi-los.[183]A Wikipédia atualmente roda em clusters de servidores dedicados Linux (principalmente Ubuntu),[211][212] com algumas máquinas OpenSolaris com sistemas de arquivos ZFS. Em dezembro de 2009, havia 300 na Flórida, Estados Unidos, e 44 em Amsterdã, nos Países Baixos.[213] A Wikipédia empregava um único servidor até 2004, quando a configuração do servidor foi ampliada para uma arquitetura em multicamadas distribuídas. Em janeiro de 2005, o projeto funcionava através de 39 servidores dedicados localizados na Flórida. Esta configuração inclui um servidor de banco de dados único mestre executando o MySQL, múltiplos servidores de banco de dados escravos, 21 servidores web rodando o Apache HTTP Server e sete servidores de cache rodando o software Squid.No dia 15 de janeiro de 2015, a comunidade da Wikipédia foi agraciada com o prêmio Erasmus por sua \"ter promovido a disseminação do conhecimento através de uma enciclopédia ampla e universalmente acessível\".[249]Galês (cy:) • Tajique (tg:)  • Macedónio (mk:) • Tagalo (tl:)  • Malgaxe (mg:) • Occitano (oc:) • Letão (lv:) • Quirguiz (ky:) • Bósnio (bs:)  • Tártaro (tt:)\n"
     ]
    }
   ],
   "source": [
    "with open(os.path.join(data_dir, data_files[0]), 'r') as f:\n",
    "    print(f.read())"
   ]
  },
  {
   "cell_type": "code",
   "execution_count": 53,
   "metadata": {},
   "outputs": [],
   "source": [
    "def text_chunks(text, n):\n",
    "    \"\"\"Produce `n`-character chunks from `text`.\"\"\"\n",
    "    for start in range(0, len(text), n):\n",
    "        yield text[start:start+n]"
   ]
  },
  {
   "cell_type": "code",
   "execution_count": 92,
   "metadata": {},
   "outputs": [
    {
     "name": "stdout",
     "output_type": "stream",
     "text": [
      "# samples for language pt: 85 with avg. lengths of 762.4470588235295\n",
      "# samples for language es: 85 with avg. lengths of 681.4470588235295\n",
      "# samples for language nl: 85 with avg. lengths of 229.96470588235294\n",
      "# samples for language pl: 85 with avg. lengths of 261.88235294117646\n",
      "# samples for language it: 85 with avg. lengths of 494.3529411764706\n",
      "# samples for language fr: 85 with avg. lengths of 666.564705882353\n",
      "# samples for language de: 85 with avg. lengths of 934.4941176470588\n",
      "# samples for language ja: 85 with avg. lengths of 145.4\n",
      "# samples for language ru: 85 with avg. lengths of 386.3764705882353\n",
      "# samples for language en: 85 with avg. lengths of 916.7529411764706\n",
      "# samples for language ar: 85 with avg. lengths of 103.47058823529412\n",
      "\n",
      "Now DataFrame contains all languages with 935 rows.\n",
      "\n",
      "ar    85\n",
      "pt    85\n",
      "fr    85\n",
      "es    85\n",
      "ja    85\n",
      "ru    85\n",
      "pl    85\n",
      "de    85\n",
      "nl    85\n",
      "en    85\n",
      "it    85\n",
      "\n",
      "Saved at ../raw_data/languages.tsv\n"
     ]
    }
   ],
   "source": [
    "# read data, clean, create df with language as label\n",
    "df_list = []\n",
    "for fn in data_files:\n",
    "    with open(os.path.join(data_dir,fn), 'r') as f:\n",
    "        language = re.search('_(.+?)_', fn).group(1)\n",
    "        # get rid of '[...]', '(...)', and digits\n",
    "        text = re.sub('([\\[\\(].+?[\\]\\)]|\\d+)', ' ', f.read()) \n",
    "        # split text into chunks of text to make more data samples\n",
    "        texts = [txt.strip() for txt in text_chunks(text, (len(text)//84))]\n",
    "        print(f'# samples for language {language}: {len(texts)} with avg. lengths of {np.mean([len(t) for t in texts])}')\n",
    "        labels = [language]*len(texts)\n",
    "        df_list.append(pd.DataFrame({'language':labels, 'content':texts}))\n",
    "lang_df = pd.concat(df_list, axis=0)\n",
    "print(f'\\nNow DataFrame contains all languages with {lang_df.shape[0]} rows.\\n')\n",
    "print(lang_df.language.value_counts().to_string())\n",
    "print(f'\\nSaved at {os.path.join(data_dir,\"languages.tsv\")}')\n",
    "lang_df.to_csv(os.path.join(data_dir,'languages.tsv'),sep='\\t')"
   ]
  },
  {
   "cell_type": "code",
   "execution_count": 94,
   "metadata": {},
   "outputs": [
    {
     "name": "stdout",
     "output_type": "stream",
     "text": [
      "../raw_data/languages.tsv\r\n"
     ]
    }
   ],
   "source": [
    "!ls ../raw_data/*.tsv"
   ]
  },
  {
   "cell_type": "markdown",
   "metadata": {},
   "source": [
    "## Checkpoint - Curate Sets"
   ]
  },
  {
   "cell_type": "code",
   "execution_count": 95,
   "metadata": {},
   "outputs": [
    {
     "data": {
      "text/html": [
       "<div>\n",
       "<style scoped>\n",
       "    .dataframe tbody tr th:only-of-type {\n",
       "        vertical-align: middle;\n",
       "    }\n",
       "\n",
       "    .dataframe tbody tr th {\n",
       "        vertical-align: top;\n",
       "    }\n",
       "\n",
       "    .dataframe thead th {\n",
       "        text-align: right;\n",
       "    }\n",
       "</style>\n",
       "<table border=\"1\" class=\"dataframe\">\n",
       "  <thead>\n",
       "    <tr style=\"text-align: right;\">\n",
       "      <th></th>\n",
       "      <th>content</th>\n",
       "      <th>language</th>\n",
       "    </tr>\n",
       "  </thead>\n",
       "  <tbody>\n",
       "    <tr>\n",
       "      <th>0</th>\n",
       "      <td>Foi laureada com o Prémio Princesa das Astúria...</td>\n",
       "      <td>pt</td>\n",
       "    </tr>\n",
       "    <tr>\n",
       "      <th>1</th>\n",
       "      <td>não precisam de explicações e estão a par com ...</td>\n",
       "      <td>pt</td>\n",
       "    </tr>\n",
       "    <tr>\n",
       "      <th>2</th>\n",
       "      <td>Bachelet, trazia a notícia sobre a sua vitória...</td>\n",
       "      <td>pt</td>\n",
       "    </tr>\n",
       "    <tr>\n",
       "      <th>3</th>\n",
       "      <td>mitida.  Artigos disponíveis em mais de uma lí...</td>\n",
       "      <td>pt</td>\n",
       "    </tr>\n",
       "    <tr>\n",
       "      <th>4</th>\n",
       "      <td>s sobre a necessidade da liberdade de panorama...</td>\n",
       "      <td>pt</td>\n",
       "    </tr>\n",
       "  </tbody>\n",
       "</table>\n",
       "</div>"
      ],
      "text/plain": [
       "                                             content language\n",
       "0  Foi laureada com o Prémio Princesa das Astúria...       pt\n",
       "1  não precisam de explicações e estão a par com ...       pt\n",
       "2  Bachelet, trazia a notícia sobre a sua vitória...       pt\n",
       "3  mitida.  Artigos disponíveis em mais de uma lí...       pt\n",
       "4  s sobre a necessidade da liberdade de panorama...       pt"
      ]
     },
     "execution_count": 95,
     "metadata": {},
     "output_type": "execute_result"
    }
   ],
   "source": [
    "data_path = os.path.join(data_dir,'languages.tsv')\n",
    "lang_df = pd.read_csv(data_path, delimiter='\\t', index_col=0)\n",
    "lang_df.head()"
   ]
  },
  {
   "cell_type": "code",
   "execution_count": 120,
   "metadata": {},
   "outputs": [
    {
     "name": "stdout",
     "output_type": "stream",
     "text": [
      "Training Distributions: \n",
      "pl    51\n",
      "pt    51\n",
      "de    51\n",
      "nl    51\n",
      "en    51\n",
      "it    51\n",
      "ar    51\n",
      "es    51\n",
      "ja    51\n",
      "fr    51\n",
      "ru    51\n",
      "\n",
      "Validation Distributions: \n",
      "ar    17\n",
      "de    17\n",
      "es    17\n",
      "pt    17\n",
      "en    17\n",
      "pl    17\n",
      "nl    17\n",
      "ja    17\n",
      "fr    17\n",
      "ru    17\n",
      "it    17\n",
      "\n",
      "Test Distributions: \n",
      "pl    17\n",
      "ar    17\n",
      "es    17\n",
      "de    17\n",
      "nl    17\n",
      "ja    17\n",
      "pt    17\n",
      "fr    17\n",
      "en    17\n",
      "ru    17\n",
      "it    17\n",
      "\n",
      "Sample Size Distribution: \n",
      "train    561\n",
      "test     187\n",
      "val      187\n"
     ]
    }
   ],
   "source": [
    "dev, test = train_test_split(lang_df, test_size=0.2, stratify=lang_df.language)\n",
    "train, val = train_test_split(dev, test_size=0.25, stratify=dev.language)\n",
    "\n",
    "# assign new column 'set' to specify train, test, or val for a sample\n",
    "test = test.assign(set = ['test'] * len(test))\n",
    "train = train.assign(set = ['train'] * len(train))\n",
    "val = val.assign(set = ['val'] * len(val))\n",
    "\n",
    "print(f'Training Distributions: \\n{train.language.value_counts().to_string()}')\n",
    "print(f'\\nValidation Distributions: \\n{val.language.value_counts().to_string()}')\n",
    "print(f'\\nTest Distributions: \\n{test.language.value_counts().to_string()}')\n",
    "\n",
    "lang_set_df = pd.concat([train,test,val], axis=0)\n",
    "print(f'\\nSample Size Distribution: \\n{lang_set_df.set.value_counts().to_string()}')\n",
    "\n",
    "lang_set_df.to_csv(os.path.join(data_dir,'language_sets.tsv'),sep='\\t')"
   ]
  },
  {
   "cell_type": "markdown",
   "metadata": {},
   "source": [
    "## Checkpoint - Visualize Train Set w/ TSNE in Tensorboard"
   ]
  },
  {
   "cell_type": "code",
   "execution_count": 143,
   "metadata": {},
   "outputs": [
    {
     "data": {
      "text/html": [
       "<div>\n",
       "<style scoped>\n",
       "    .dataframe tbody tr th:only-of-type {\n",
       "        vertical-align: middle;\n",
       "    }\n",
       "\n",
       "    .dataframe tbody tr th {\n",
       "        vertical-align: top;\n",
       "    }\n",
       "\n",
       "    .dataframe thead th {\n",
       "        text-align: right;\n",
       "    }\n",
       "</style>\n",
       "<table border=\"1\" class=\"dataframe\">\n",
       "  <thead>\n",
       "    <tr style=\"text-align: right;\">\n",
       "      <th></th>\n",
       "      <th>content</th>\n",
       "      <th>language</th>\n",
       "      <th>set</th>\n",
       "    </tr>\n",
       "  </thead>\n",
       "  <tbody>\n",
       "    <tr>\n",
       "      <th>32</th>\n",
       "      <td>echter geen sprake van een volledige afspiegel...</td>\n",
       "      <td>nl</td>\n",
       "      <td>train</td>\n",
       "    </tr>\n",
       "    <tr>\n",
       "      <th>42</th>\n",
       "      <td>chtelijke kennisgevingen niet gerealiseerd wor...</td>\n",
       "      <td>nl</td>\n",
       "      <td>train</td>\n",
       "    </tr>\n",
       "    <tr>\n",
       "      <th>45</th>\n",
       "      <td>め一般には大きな問題とされることは少ないだが英語版ではメインペジのいたずら書きが何回も発生し...</td>\n",
       "      <td>ja</td>\n",
       "      <td>train</td>\n",
       "    </tr>\n",
       "    <tr>\n",
       "      <th>1</th>\n",
       "      <td>był w języku angielskim    .Wikipedia działa w...</td>\n",
       "      <td>pl</td>\n",
       "      <td>train</td>\n",
       "    </tr>\n",
       "    <tr>\n",
       "      <th>53</th>\n",
       "      <td>انتونيزية   · السوندية   · الكيشوية   · الزازا...</td>\n",
       "      <td>ar</td>\n",
       "      <td>train</td>\n",
       "    </tr>\n",
       "  </tbody>\n",
       "</table>\n",
       "</div>"
      ],
      "text/plain": [
       "                                              content language    set\n",
       "32  echter geen sprake van een volledige afspiegel...       nl  train\n",
       "42  chtelijke kennisgevingen niet gerealiseerd wor...       nl  train\n",
       "45  め一般には大きな問題とされることは少ないだが英語版ではメインペジのいたずら書きが何回も発生し...       ja  train\n",
       "1   był w języku angielskim    .Wikipedia działa w...       pl  train\n",
       "53  انتونيزية   · السوندية   · الكيشوية   · الزازا...       ar  train"
      ]
     },
     "execution_count": 143,
     "metadata": {},
     "output_type": "execute_result"
    }
   ],
   "source": [
    "data_path = os.path.join(data_dir,'language_sets.tsv')\n",
    "lang_set_df = pd.read_csv(data_path, delimiter='\\t', index_col=0)\n",
    "lang_set_df.head()"
   ]
  },
  {
   "cell_type": "code",
   "execution_count": 144,
   "metadata": {},
   "outputs": [
    {
     "name": "stdout",
     "output_type": "stream",
     "text": [
      "Document Vector Dimensions: 7126\n"
     ]
    }
   ],
   "source": [
    "# from https://stackoverflow.com/questions/41258391/tensorboard-embedding-example\n",
    "log_path = os.path.join(eda_model_dir,'log')\n",
    "\n",
    "vec = CountVectorizer(analyzer='char_wb', ngram_range=(1,2))\n",
    "\n",
    "train = lang_set_df[lang_set_df.set == 'train']\n",
    "labels = train.language\n",
    "train_X = vec.fit_transform(train.content)\n",
    "vocab = vec.vocabulary_\n",
    "\n",
    "dim = len(vocab)\n",
    "print('Document Vector Dimensions:', dim)\n",
    "\n",
    "# create a list of document vectors and write labels (texts)\n",
    "embedding = np.empty((train.shape[0], dim), dtype=np.float32)\n",
    "with open(os.path.join(log_path,'metadata.tsv'),'w') as f:\n",
    "    for i, (_,row) in enumerate(train.iterrows()):\n",
    "        embedding[i] = vec.transform([row.content]).A[0]\n",
    "        f.write(f'{row.language}__{\"_\".join(row.content.split())}\\n')\n",
    "\n",
    "# setup a TensorFlow session\n",
    "tf.reset_default_graph()\n",
    "sess = tf.InteractiveSession()\n",
    "X = tf.Variable([0.0], name='embedding')\n",
    "place = tf.placeholder(tf.float32, shape=embedding.shape)\n",
    "set_x = tf.assign(X, place, validate_shape=False)\n",
    "sess.run(tf.global_variables_initializer())\n",
    "sess.run(set_x, feed_dict={place: embedding})\n",
    "\n",
    "# create a TensorFlow summary writer\n",
    "summary_writer = tf.summary.FileWriter(log_path, sess.graph)\n",
    "config = projector.ProjectorConfig()\n",
    "embedding_conf = config.embeddings.add()\n",
    "embedding_conf.tensor_name = 'embedding:0'\n",
    "embedding_conf.metadata_path = 'metadata.tsv'\n",
    "projector.visualize_embeddings(summary_writer, config)\n",
    "\n",
    "# save the model\n",
    "saver = tf.train.Saver()\n",
    "saver.save(sess, os.path.join(log_path, 'model.ckpt'))\n",
    "sess.close()"
   ]
  },
  {
   "cell_type": "code",
   "execution_count": 145,
   "metadata": {},
   "outputs": [
    {
     "name": "stdout",
     "output_type": "stream",
     "text": [
      "checkpoint\r\n",
      "events.out.tfevents.1526416622.JGIERINGER.local\r\n",
      "metadata.tsv\r\n",
      "model.ckpt.data-00000-of-00001\r\n",
      "model.ckpt.index\r\n",
      "model.ckpt.meta\r\n",
      "projector_config.pbtxt\r\n"
     ]
    }
   ],
   "source": [
    "!ls ../models/EDA/log"
   ]
  },
  {
   "cell_type": "code",
   "execution_count": null,
   "metadata": {},
   "outputs": [
    {
     "name": "stdout",
     "output_type": "stream",
     "text": [
      "/Users/joshua.gieringer/anaconda3/lib/python3.6/site-packages/h5py/__init__.py:34: FutureWarning: Conversion of the second argument of issubdtype from `float` to `np.floating` is deprecated. In future, it will be treated as `np.float64 == np.dtype(float).type`.\n",
      "  from ._conv import register_converters as _register_converters\n",
      "2018-05-24 17:14:09.080667: I tensorflow/core/platform/cpu_feature_guard.cc:140] Your CPU supports instructions that this TensorFlow binary was not compiled to use: AVX2 FMA\n",
      "TensorBoard 1.8.0 at http://JGIERINGER.local:6006 (Press CTRL+C to quit)\n"
     ]
    }
   ],
   "source": [
    "!tensorboard --logdir=../models/EDA/log"
   ]
  },
  {
   "cell_type": "code",
   "execution_count": 138,
   "metadata": {},
   "outputs": [],
   "source": [
    "!ls ../models/EDA/log/"
   ]
  },
  {
   "cell_type": "code",
   "execution_count": null,
   "metadata": {},
   "outputs": [],
   "source": []
  },
  {
   "cell_type": "markdown",
   "metadata": {},
   "source": [
    "# Pretrained Word Embeddings"
   ]
  },
  {
   "cell_type": "code",
   "execution_count": 21,
   "metadata": {},
   "outputs": [
    {
     "name": "stdout",
     "output_type": "stream",
     "text": [
      "Woohoo you don't need to download a big file!\n"
     ]
    }
   ],
   "source": [
    "# DO NOT RUN IF YOU DON'T WANT TO DOWNLOAD A 4 GIG FILE :)\n",
    "\n",
    "# Check if model_dir has pretrained vectors\n",
    "numbatch_url = 'https://conceptnet.s3.amazonaws.com/downloads/2017/numberbatch/numberbatch-17.06.txt.gz'\n",
    "numbatch_fn = 'numberbatch-17.06.txt.gz'\n",
    "numbatch_path = os.path.join(resource_path,numbatch_fn)\n",
    "resources = os.listdir(resource_path)\n",
    "if not any('numberbatch' in f for f in resources):\n",
    "    print('Downloading Numberbatch Multilingual')\n",
    "    os.system('wget -0 {} {}'.format(numbatch_path, numbatch_url))\n",
    "    os.system('gunzip -c {} > {}'.format(numbatch_path, resource_path))\n",
    "else:\n",
    "    print('Woohoo you don\\'t need to download a big file!')"
   ]
  },
  {
   "cell_type": "code",
   "execution_count": null,
   "metadata": {},
   "outputs": [],
   "source": [
    "# from https://stackoverflow.com/questions/41258391/tensorboard-embedding-example\n",
    "# load model\n",
    "# embedding_fn = os.path.join(resource_path,'numberbatch-17.06.txt')\n",
    "log_path = '../models/pretrained_word_embeddings/log'\n",
    "embedding_fn = '/Users/joshua.gieringer/jupyter_workspace/pretrained_vectors/numberbatch-en-17.06.txt'\n",
    "word2vec = ds.load_word_embeddings(embedding_fn,skip_lines=1,binary=False)\n",
    "dim = len(word2vec['a'])\n",
    "\n",
    "# create a list of vectors and write labels (words)\n",
    "embedding = np.empty((len(word2vec), dim), dtype=np.float32)\n",
    "with open(os.path.join(log_path,'metadata.tsv'),'w') as f:\n",
    "    for i, word in enumerate(word2vec):\n",
    "        embedding[i] = word2vec[word]\n",
    "        f.write(word + '\\n')\n",
    "\n",
    "# setup a TensorFlow session\n",
    "tf.reset_default_graph()\n",
    "sess = tf.InteractiveSession()\n",
    "X = tf.Variable([0.0], name='embedding')\n",
    "place = tf.placeholder(tf.float32, shape=embedding.shape)\n",
    "set_x = tf.assign(X, place, validate_shape=False)\n",
    "sess.run(tf.global_variables_initializer())\n",
    "sess.run(set_x, feed_dict={place: embedding})\n",
    "\n",
    "# create a TensorFlow summary writer\n",
    "summary_writer = tf.summary.FileWriter(log_path, sess.graph)\n",
    "config = projector.ProjectorConfig()\n",
    "embedding_conf = config.embeddings.add()\n",
    "embedding_conf.tensor_name = 'embedding:0'\n",
    "embedding_conf.metadata_path = os.path.join('metadata.tsv')\n",
    "projector.visualize_embeddings(summary_writer, config)\n",
    "\n",
    "# save the model\n",
    "saver = tf.train.Saver()\n",
    "saver.save(sess, os.path.join(log_path, 'model.ckpt'))\n",
    "sess.close()"
   ]
  },
  {
   "cell_type": "code",
   "execution_count": 8,
   "metadata": {},
   "outputs": [],
   "source": [
    "!ls ..models/pretrained_word_embeddings/log"
   ]
  },
  {
   "cell_type": "code",
   "execution_count": null,
   "metadata": {
    "scrolled": false
   },
   "outputs": [],
   "source": [
    "!tensorboard --logdir=../models/pretrained_word_embeddings/log"
   ]
  }
 ],
 "metadata": {
  "kernelspec": {
   "display_name": "Python 3",
   "language": "python",
   "name": "python3"
  },
  "language_info": {
   "codemirror_mode": {
    "name": "ipython",
    "version": 3
   },
   "file_extension": ".py",
   "mimetype": "text/x-python",
   "name": "python",
   "nbconvert_exporter": "python",
   "pygments_lexer": "ipython3",
   "version": "3.6.4"
  }
 },
 "nbformat": 4,
 "nbformat_minor": 2
}
